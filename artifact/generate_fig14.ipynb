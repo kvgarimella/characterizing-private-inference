{
 "cells": [
  {
   "cell_type": "code",
   "execution_count": 1,
   "metadata": {},
   "outputs": [],
   "source": [
    "import numpy as np\n",
    "import matplotlib.pyplot as plt"
   ]
  },
  {
   "cell_type": "code",
   "execution_count": 2,
   "metadata": {},
   "outputs": [],
   "source": [
    "vals = np.zeros((7, 6))"
   ]
  },
  {
   "cell_type": "markdown",
   "metadata": {},
   "source": [
    "Each command here outputs the latency of:\n",
    "\n",
    "- GC Garbling \n",
    "- GC Evaluation\n",
    "- HE Evaluation\n",
    "- Online Communication\n",
    "- Offline Communication\n",
    "- SS Evaluation"
   ]
  },
  {
   "cell_type": "markdown",
   "metadata": {},
   "source": [
    "## LPHE + WSA + Server-Garbler\n",
    "\n",
    "```\n",
    "python e2e_latency.py --protocol=0 --upload-bandwidth=198 --download-bandwidth=802 --network=resnet18 --dataset=tinyimagenet --num-threads-client=4 --num-threads-server-he=17 --num-threads-server-gc=32 --he-speedup=1 --gc-speedup=1 --bw-speedup=1\n",
    "```"
   ]
  },
  {
   "cell_type": "code",
   "execution_count": 3,
   "metadata": {},
   "outputs": [
    {
     "name": "stdout",
     "output_type": "stream",
     "text": [
      "930.1472346363207\n"
     ]
    }
   ],
   "source": [
    "GC_GARBLE_TIME    = 25.11021159792793\n",
    "HE_EVAL_TIME      = 152.84400040000003\n",
    "GC_EVAL_TIME      = 199.91925001126128\n",
    "ONLINE_COMM_TIME  = 27.122225136250222\n",
    "OFFLINE_COMM_TIME = 524.5413659908813\n",
    "SS_EVAL_TIME      = 0.6101814999999533\n",
    "print(GC_GARBLE_TIME + HE_EVAL_TIME + GC_EVAL_TIME + OFFLINE_COMM_TIME + ONLINE_COMM_TIME + SS_EVAL_TIME)\n",
    "i = 0\n",
    "vals[i,0] = OFFLINE_COMM_TIME\n",
    "vals[i,1] = GC_GARBLE_TIME\n",
    "vals[i,2] = HE_EVAL_TIME\n",
    "vals[i,3] = ONLINE_COMM_TIME\n",
    "vals[i,4] = GC_EVAL_TIME\n",
    "vals[i,5] = SS_EVAL_TIME"
   ]
  },
  {
   "cell_type": "markdown",
   "metadata": {},
   "source": [
    "## LPHE + WSA + Client-Garbler\n",
    "\n",
    "```\n",
    "python e2e_latency.py --protocol=1 --upload-bandwidth=835 --download-bandwidth=165 --network=resnet18 --dataset=tinyimagenet --num-threads-client=4 --num-threads-server-he=17 --num-threads-server-gc=32 --he-speedup=1 --gc-speedup=1 --bw-speedup=1\n",
    "```"
   ]
  },
  {
   "cell_type": "code",
   "execution_count": 4,
   "metadata": {},
   "outputs": [
    {
     "name": "stdout",
     "output_type": "stream",
     "text": [
      "0.3805590466722166\n",
      "1052.2682545397995\n"
     ]
    }
   ],
   "source": [
    "GC_GARBLE_TIME    = 400.4502037911035\n",
    "HE_EVAL_TIME      = 152.84400040000003\n",
    "GC_EVAL_TIME      = 11.005130580650075\n",
    "ONLINE_COMM_TIME  = 101.29279168499374\n",
    "OFFLINE_COMM_TIME = 386.06594658305215\n",
    "SS_EVAL_TIME      = 0.6101814999999533\n",
    "total_time = GC_GARBLE_TIME + HE_EVAL_TIME + GC_EVAL_TIME +OFFLINE_COMM_TIME+ ONLINE_COMM_TIME + SS_EVAL_TIME\n",
    "online_time = GC_EVAL_TIME + SS_EVAL_TIME + ONLINE_COMM_TIME\n",
    "offline_time = total_time - online_time\n",
    "print(GC_GARBLE_TIME / total_time)\n",
    "print(GC_GARBLE_TIME + HE_EVAL_TIME + GC_EVAL_TIME + OFFLINE_COMM_TIME + ONLINE_COMM_TIME + SS_EVAL_TIME)\n",
    "i = 1\n",
    "vals[i,0] = OFFLINE_COMM_TIME\n",
    "vals[i,1] = GC_GARBLE_TIME\n",
    "vals[i,2] = HE_EVAL_TIME\n",
    "vals[i,3] = ONLINE_COMM_TIME\n",
    "vals[i,4] = GC_EVAL_TIME\n",
    "vals[i,5] = SS_EVAL_TIME"
   ]
  },
  {
   "cell_type": "markdown",
   "metadata": {},
   "source": [
    "## LPHE + WSA + Client-Garbler + 100xGC\n",
    "\n",
    "```\n",
    "python e2e_latency.py --protocol=1 --upload-bandwidth=835 --download-bandwidth=165 --network=resnet18 --dataset=tinyimagenet --num-threads-client=4 --num-threads-server-he=17 --num-threads-server-gc=32 --he-speedup=1 --gc-speedup=19 --bw-speedup=1\n",
    "```"
   ]
  },
  {
   "cell_type": "code",
   "execution_count": 5,
   "metadata": {},
   "outputs": [],
   "source": [
    "i=2\n",
    "GC_GARBLE_TIME    = 21.076326515321238\n",
    "HE_EVAL_TIME      = 152.84400040000003\n",
    "GC_EVAL_TIME      = 0.5792173989815829\n",
    "ONLINE_COMM_TIME  = 101.29279168499374\n",
    "OFFLINE_COMM_TIME = 386.06594658305215\n",
    "SS_EVAL_TIME      = 0.6101814999999533\n",
    "vals[i,0] = OFFLINE_COMM_TIME\n",
    "vals[i,1] = GC_GARBLE_TIME\n",
    "vals[i,2] = HE_EVAL_TIME\n",
    "vals[i,3] = ONLINE_COMM_TIME\n",
    "vals[i,4] = GC_EVAL_TIME\n",
    "vals[i,5] = SS_EVAL_TIME"
   ]
  },
  {
   "cell_type": "markdown",
   "metadata": {},
   "source": [
    "## LPHE + WSA + Client-Garbler + 100xGC\n",
    "\n",
    "```\n",
    "python e2e_latency.py --protocol=1 --upload-bandwidth=835 --download-bandwidth=165 --network=resnet18 --dataset=tinyimagenet --num-threads-client=4 --num-threads-server-he=17 --num-threads-server-gc=32 --he-speedup=1 --gc-speedup=100 --bw-speedup=1\n",
    "```"
   ]
  },
  {
   "cell_type": "code",
   "execution_count": 6,
   "metadata": {},
   "outputs": [],
   "source": [
    "GC_GARBLE_TIME    = 4.004502037911035\n",
    "HE_EVAL_TIME      = 152.84400040000003\n",
    "GC_EVAL_TIME      = 0.11005130580650074\n",
    "ONLINE_COMM_TIME  = 101.29279168499374\n",
    "OFFLINE_COMM_TIME = 386.06594658305215\n",
    "SS_EVAL_TIME      = 0.6101814999999533\n",
    "i = 3\n",
    "vals[i,0] = OFFLINE_COMM_TIME\n",
    "vals[i,1] = GC_GARBLE_TIME\n",
    "vals[i,2] = HE_EVAL_TIME\n",
    "vals[i,3] = ONLINE_COMM_TIME\n",
    "vals[i,4] = GC_EVAL_TIME\n",
    "vals[i,5] = SS_EVAL_TIME"
   ]
  },
  {
   "cell_type": "markdown",
   "metadata": {},
   "source": [
    "## LPHE + WSA + Client-Garber + 100xGC + 1000xHE\n",
    "```\n",
    "python e2e_latency.py --protocol=1 --upload-bandwidth=835 --download-bandwidth=165 --network=resnet18 --dataset=tinyimagenet --num-threads-client=4 --num-threads-server-he=17 --num-threads-server-gc=32 --he-speedup=1000 --gc-speedup=100 --bw-speedup=1\n",
    "```"
   ]
  },
  {
   "cell_type": "code",
   "execution_count": 7,
   "metadata": {},
   "outputs": [
    {
     "name": "stdout",
     "output_type": "stream",
     "text": [
      "492.23631711216336\n"
     ]
    }
   ],
   "source": [
    "GC_GARBLE_TIME    = 4.004502037911035\n",
    "HE_EVAL_TIME      = 0.15284400040000004\n",
    "GC_EVAL_TIME      = 0.11005130580650074\n",
    "ONLINE_COMM_TIME  = 101.29279168499374\n",
    "OFFLINE_COMM_TIME = 386.06594658305215\n",
    "SS_EVAL_TIME      = 0.6101814999999533\n",
    "print(GC_GARBLE_TIME + HE_EVAL_TIME + GC_EVAL_TIME + OFFLINE_COMM_TIME + ONLINE_COMM_TIME + SS_EVAL_TIME)\n",
    "i = 4\n",
    "vals[i,0] = OFFLINE_COMM_TIME\n",
    "vals[i,1] = GC_GARBLE_TIME\n",
    "vals[i,2] = HE_EVAL_TIME\n",
    "vals[i,3] = ONLINE_COMM_TIME\n",
    "vals[i,4] = GC_EVAL_TIME\n",
    "vals[i,5] = SS_EVAL_TIME"
   ]
  },
  {
   "cell_type": "markdown",
   "metadata": {},
   "source": [
    "## LPHE + WSA + Client-Garber + 100xGC + 1000xHE + 10xBW\n",
    "\n",
    "```python e2e_latency.py --protocol=1 --upload-bandwidth=835 --download-bandwidth=165 --network=resnet18 --dataset=tinyimagenet --num-threads-client=4 --num-threads-server-he=17 --num-threads-server-gc=32 --he-speedup=1000 --gc-speedup=100 --bw-speedup=10```"
   ]
  },
  {
   "cell_type": "code",
   "execution_count": 8,
   "metadata": {},
   "outputs": [
    {
     "name": "stdout",
     "output_type": "stream",
     "text": [
      "53.61345267092207\n"
     ]
    }
   ],
   "source": [
    "GC_GARBLE_TIME    = 4.004502037911035\n",
    "HE_EVAL_TIME      = 0.15284400040000004\n",
    "GC_EVAL_TIME      = 0.11005130580650074\n",
    "ONLINE_COMM_TIME  = 10.129279168499375\n",
    "OFFLINE_COMM_TIME = 38.60659465830521\n",
    "SS_EVAL_TIME      = 0.6101814999999533\n",
    "print(GC_GARBLE_TIME + HE_EVAL_TIME + GC_EVAL_TIME + OFFLINE_COMM_TIME + ONLINE_COMM_TIME + SS_EVAL_TIME)\n",
    "i = 5\n",
    "vals[i,0] = OFFLINE_COMM_TIME\n",
    "vals[i,1] = GC_GARBLE_TIME\n",
    "vals[i,2] = HE_EVAL_TIME\n",
    "vals[i,3] = ONLINE_COMM_TIME\n",
    "vals[i,4] = GC_EVAL_TIME\n",
    "vals[i,5] = SS_EVAL_TIME"
   ]
  },
  {
   "cell_type": "markdown",
   "metadata": {},
   "source": [
    "## LPHE + WSA + Client-Garbler + 100xGC + 1000xHE + 10xBW + ReLU Reduction\n",
    "\n",
    "```\n",
    "python e2e_latency.py --protocol=1 --upload-bandwidth=835 --download-bandwidth=165 --network=resnet18 --dataset=tinyimagenet --num-threads-client=4 --num-threads-server-he=17 --num-threads-server-gc=32 --he-speedup=1000 --gc-speedup=1000 --bw-speedup=100\n",
    "```"
   ]
  },
  {
   "cell_type": "code",
   "execution_count": 9,
   "metadata": {},
   "outputs": [
    {
     "name": "stdout",
     "output_type": "stream",
     "text": [
      "6.048068217452166\n"
     ]
    }
   ],
   "source": [
    "GC_GARBLE_TIME    = 0.40045020379110347\n",
    "HE_EVAL_TIME      = 0.15284400040000004\n",
    "GC_EVAL_TIME      = 0.011005130580650075\n",
    "ONLINE_COMM_TIME  = 1.0129279168499374\n",
    "OFFLINE_COMM_TIME = 3.8606594658305213\n",
    "SS_EVAL_TIME      = 0.6101814999999533\n",
    "total_time = GC_GARBLE_TIME + HE_EVAL_TIME + GC_EVAL_TIME +OFFLINE_COMM_TIME+ ONLINE_COMM_TIME + SS_EVAL_TIME\n",
    "online_time = GC_EVAL_TIME + SS_EVAL_TIME + ONLINE_COMM_TIME\n",
    "offline_time = total_time - online_time\n",
    "\n",
    "print(GC_GARBLE_TIME + HE_EVAL_TIME + GC_EVAL_TIME + OFFLINE_COMM_TIME + ONLINE_COMM_TIME + SS_EVAL_TIME)\n",
    "i = 6\n",
    "vals[i,0] = OFFLINE_COMM_TIME\n",
    "vals[i,1] = GC_GARBLE_TIME\n",
    "vals[i,2] = HE_EVAL_TIME\n",
    "vals[i,3] = ONLINE_COMM_TIME\n",
    "vals[i,4] = GC_EVAL_TIME\n",
    "vals[i,5] = SS_EVAL_TIME"
   ]
  },
  {
   "cell_type": "code",
   "execution_count": 10,
   "metadata": {},
   "outputs": [],
   "source": [
    "labels = {0: \"Offline Comm.\",\n",
    "          1: \"GC.Garble\",\n",
    "          2: \"HE.Eval\",\n",
    "          3: \"Online Comm.\",\n",
    "          4: \"GC.Eval\",\n",
    "          5: \"SS.Eval\"}"
   ]
  },
  {
   "cell_type": "code",
   "execution_count": 11,
   "metadata": {},
   "outputs": [
    {
     "name": "stdout",
     "output_type": "stream",
     "text": [
      "[76 89 85 84 79 80 73]\n"
     ]
    },
    {
     "data": {
      "text/plain": [
       "array([ 930.14723464, 1052.26825454,  662.46846408,  644.92747351,\n",
       "        492.23631711,   53.61345267,    6.04806822])"
      ]
     },
     "execution_count": 11,
     "metadata": {},
     "output_type": "execute_result"
    }
   ],
   "source": [
    "final = vals / np.sum(vals, axis=1, keepdims=True) * 100\n",
    "offline_props = ((vals[:,:3].sum(1) / vals.sum(1))*100).round().astype(int)\n",
    "print(offline_props)\n",
    "final_props = [\"{}%\".format(i) for i in offline_props]\n",
    "vals.sum(1)"
   ]
  },
  {
   "cell_type": "code",
   "execution_count": 12,
   "metadata": {},
   "outputs": [
    {
     "data": {
      "image/png": "[encoded data removed]",
      "text/plain": [
       "<Figure size 720x576 with 2 Axes>"
      ]
     },
     "metadata": {
      "needs_background": "light"
     },
     "output_type": "display_data"
    }
   ],
   "source": [
    "colors = ['gray', '#6399E8', '#EE8183', '#6CCBAB', '#B19EE1', '#F4B07F']\n",
    "fig, ax  = plt.subplots(nrows=2, figsize=(10,8),gridspec_kw={'height_ratios': [1, 1.7]}, sharex=True)\n",
    "plt.rcParams.update({'font.size': 22})\n",
    "bars = []\n",
    "for i in range(7):\n",
    "    for j in range(len(final[0])):\n",
    "        if i == 0:\n",
    "            ax[1].bar(i, height=final[i,j], bottom=final[i,:j].sum(),color=colors[j], label=labels[j])\n",
    "        else:\n",
    "            ax[1].bar(i, height=final[i,j], bottom=final[i,:j].sum(),color=colors[j])\n",
    "\n",
    "for i in range(len(final)):\n",
    "    bars.append(ax[1].bar(i, height=100, color='blue', alpha=0))\n",
    "    \n",
    "counter = 0\n",
    "for bar in bars:\n",
    "    ax[1].bar_label(bar, fontsize=19, labels=[final_props[counter]])\n",
    "    counter += 1\n",
    "plt.yticks([0,20,40,80,60,80,100], labels=[\"{}%\".format(i) for i in [0,20,40,80,60,80,100]]);\n",
    "ylim = plt.ylim()\n",
    "plt.ylim(ylim[0], 109)\n",
    "xlabels = ['Server\\nGarbler*', 'Client\\nGarbler', 'GC FASE\\n19x', 'GC\\n100x', 'HE\\n1000x', 'BW\\n10x', 'Fewer\\nReLUs']\n",
    "plt.xticks(np.arange(7), xlabels, rotation=0, fontsize=17)\n",
    "\n",
    "rects = []\n",
    "for i in range(7):\n",
    "    if i == 0:\n",
    "        rects.append(ax[0].bar(i, height=(vals[i,:].sum().round()), color='#778898', label='Total Latency'))\n",
    "    rects.append(ax[0].bar(i, height=(vals[i,:].sum().round()),color=\"#778898\"))\n",
    "for rect in rects:\n",
    "    ax[0].bar_label(rect, fontsize=19)\n",
    "ax[0].set_yscale('log')\n",
    "ax[0].legend(fontsize=18)\n",
    "ylims = ax[0].get_ylim()\n",
    "ax[0].set_ylim(ylims[0], 10**3.4)\n",
    "ax[0].set_ylabel(\"Latency (s)\")\n",
    "plt.legend(loc='lower center', fontsize=18,ncol=3) # online offline two separate columns\n",
    "plt.tight_layout();\n"
   ]
  }
 ],
 "metadata": {
  "kernelspec": {
   "display_name": "Python 3",
   "language": "python",
   "name": "python3"
  },
  "language_info": {
   "codemirror_mode": {
    "name": "ipython",
    "version": 3
   },
   "file_extension": ".py",
   "mimetype": "text/x-python",
   "name": "python",
   "nbconvert_exporter": "python",
   "pygments_lexer": "ipython3",
   "version": "3.8.3"
  }
 },
 "nbformat": 4,
 "nbformat_minor": 4
}
