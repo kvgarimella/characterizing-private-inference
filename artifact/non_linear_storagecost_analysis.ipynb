{
 "cells": [
  {
   "cell_type": "code",
   "execution_count": null,
   "metadata": {
    "id": "sBzQftS7059C"
   },
   "outputs": [],
   "source": [
    "NUM_RELU_R32 = 303104\n",
    "NUM_RELU_R18 = 557056\n",
    "NUM_RELU_MST = 10340"
   ]
  },
  {
   "cell_type": "markdown",
   "metadata": {
    "id": "kpDFCLjY6P_T"
   },
   "source": [
    "# Garbler Offline GC\n",
    "\n",
    "I modified the [code](https://github.com/mc2-project/delphi/blob/master/rust/protocols/src/gc.rs#L169) to output the serialized size of the `ServerState` object.\n",
    "\n",
    "Here is what I added:\n",
    "\n",
    "\n",
    "```\n",
    "....\n",
    "println!(\"Len of encoders: {}\", encoders.len());\n",
    "println!(\"Len of output_randomizers: {}\", output_randomizers.len());\n",
    "let serialized_encoders: Vec<u8> = bincode::serialize(&encoders).unwrap();\n",
    "let serialized_randomizers: Vec<u8> = bincode::serialize(&output_randomizers).unwrap();\n",
    "let size_encoders = serialized_encoders.len()       //  \n",
    "let size_randomizers = serialized_randomizers.len() // \n",
    "println!(\"Size of ServerState in bytes: {}, {}\", size_encoders, size_randomizers);\n",
    "Ok(ServerState{encoders,output_randomizers,})\n",
    "....\n",
    "```\n",
    "\n",
    "\n",
    "Outputs:\n",
    "- MNIST:\n",
    "```\n",
    "Len of encoders: 10340\n",
    "Len of output_randomizers: 10340\n",
    "Size of ServerState in Bytes: 37037888, 82728\n",
    "```\n",
    "- R32:\n",
    "```\n",
    "Len of encoders: 303104\n",
    "Len of output_randomizers: 303104\n",
    "Size of ServerState in Bytes: 1085718536, 2424840\n",
    "```\n",
    "- R18:\n",
    "```\n",
    "Len of encoders: 557056\n",
    "Len of output_randomizers: 557056\n",
    "Size of ServerState in Bytes: 1995374600, 4456456\n",
    "```\n"
   ]
  },
  {
   "cell_type": "code",
   "execution_count": null,
   "metadata": {
    "colab": {
     "base_uri": "https://localhost:8080/"
    },
    "id": "Yrx7-qc14aip",
    "outputId": "4f0ad38e-c880-4e8b-c1ea-9eb59f5b94e6"
   },
   "outputs": [
    {
     "data": {
      "text/plain": [
       "(3582.000773694391, 8.000773694390716)"
      ]
     },
     "execution_count": 15,
     "metadata": {},
     "output_type": "execute_result"
    }
   ],
   "source": [
    "37037888 / NUM_RELU_MST , 82728 / NUM_RELU_MST"
   ]
  },
  {
   "cell_type": "code",
   "execution_count": null,
   "metadata": {
    "colab": {
     "base_uri": "https://localhost:8080/"
    },
    "id": "F6vvzG3L4_V8",
    "outputId": "3e956f81-85e6-4cc3-b141-7eb6db6d4969"
   },
   "outputs": [
    {
     "data": {
      "text/plain": [
       "(3582.0000263935813, 8.00002639358108)"
      ]
     },
     "execution_count": 16,
     "metadata": {},
     "output_type": "execute_result"
    }
   ],
   "source": [
    "1085718536 / NUM_RELU_R32, 2424840 / NUM_RELU_R32"
   ]
  },
  {
   "cell_type": "code",
   "execution_count": null,
   "metadata": {
    "colab": {
     "base_uri": "https://localhost:8080/"
    },
    "id": "PhHzNhQm5dkN",
    "outputId": "7252eb4c-09a5-433e-a8c4-4ed210e664a3"
   },
   "outputs": [
    {
     "data": {
      "text/plain": [
       "(3582.0000143612133, 8.000014361213236)"
      ]
     },
     "execution_count": 17,
     "metadata": {},
     "output_type": "execute_result"
    }
   ],
   "source": [
    "1995374600 / NUM_RELU_R18, 4456456 / NUM_RELU_R18"
   ]
  },
  {
   "cell_type": "code",
   "execution_count": null,
   "metadata": {
    "colab": {
     "base_uri": "https://localhost:8080/"
    },
    "id": "5FdaX9drHEUd",
    "outputId": "7264e1bd-09cb-4026-edb2-553f6463a874"
   },
   "outputs": [
    {
     "data": {
      "text/plain": [
       "3590"
      ]
     },
     "execution_count": 18,
     "metadata": {},
     "output_type": "execute_result"
    }
   ],
   "source": [
    "3582 + 8"
   ]
  },
  {
   "cell_type": "markdown",
   "metadata": {
    "id": "KQJFJjcr_mVY"
   },
   "source": [
    "\n",
    "# Evaluator Offline GC\n",
    "\n",
    "I modified the [code](https://github.com/mc2-project/delphi/blob/master/rust/protocols/src/gc.rs#L232) to output the serialized size of the `ClientState` object.\n",
    "\n",
    "Here is what I added:\n",
    "\n",
    "```\n",
    "println!(\"Len of gc_s: {}\", gc_s.len());\n",
    "println!(\"Len of r_wires: {}\", r_wires.len());\n",
    "println!(\"Len of labels: {}\", labels.len());\n",
    "        \n",
    "let encoded_gc_s: Vec<u8> = bincode::serialize(&gc_s).unwrap();\n",
    "let encoded_r_wires: Vec<u8> = bincode::serialize(&r_wires).unwrap();\n",
    "let encoded_labels: Vec<u8> = bincode::serialize(&labels).unwrap();\n",
    "\n",
    "let size_gc = encoded_gc_s.len();\n",
    "let size_rwires = encoded_r_wires.len();\n",
    "let size_labels = encoded_labels.len();\n",
    "\n",
    "println!(\"Size of ClientState in Bytes: {}, {}, {}\", size_gc, size_rwires, size_labels);\n",
    "\n",
    "Ok(ClientState {gc_s,server_randomizer_labels: r_wires, client_input_labels: labels,})\n",
    "```\n",
    "\n",
    "Outputs:\n",
    "- MNIST:\n",
    "```\n",
    "Len of gc_s: 10340\n",
    "Len of r_wires: 434280\n",
    "Len of labels: 434280\n",
    "Size of ClientState in Bytes: 164364648, 12159848, 12159848\n",
    "```\n",
    "- R32:\n",
    "```\n",
    "Len of gc_s: 303104\n",
    "Len of r_wires: 12730368\n",
    "Len of labels: 12730368\n",
    "Size of ClientState in Bytes: 4818141192, 356450312, 356450312\n",
    "```\n",
    "- R18:\n",
    "```\n",
    "Len of gc_s: 557056\n",
    "Len of r_wires: 23396352\n",
    "Len of labels: 23396352\n",
    "Size of ClientState in Bytes: 8854962184, 655097864, 655097864\n",
    "```\n",
    "\n",
    "\n"
   ]
  },
  {
   "cell_type": "code",
   "execution_count": null,
   "metadata": {
    "colab": {
     "base_uri": "https://localhost:8080/"
    },
    "id": "SS8XoIikBp-K",
    "outputId": "04243e6d-c290-45a3-d566-f785479d0125"
   },
   "outputs": [
    {
     "data": {
      "text/plain": [
       "(15896.00077369439, 1176.0007736943908, 1176.0007736943908)"
      ]
     },
     "execution_count": 12,
     "metadata": {},
     "output_type": "execute_result"
    }
   ],
   "source": [
    "164364648/NUM_RELU_MST, 12159848/NUM_RELU_MST, 12159848/NUM_RELU_MST"
   ]
  },
  {
   "cell_type": "code",
   "execution_count": null,
   "metadata": {
    "colab": {
     "base_uri": "https://localhost:8080/"
    },
    "id": "f1fzTrXyDA_J",
    "outputId": "7e7fc84a-a365-4f94-df36-1465a6a8cf3f"
   },
   "outputs": [
    {
     "data": {
      "text/plain": [
       "(15896.000026393582, 1176.000026393581, 1176.000026393581)"
      ]
     },
     "execution_count": 13,
     "metadata": {},
     "output_type": "execute_result"
    }
   ],
   "source": [
    "4818141192/NUM_RELU_R32, 356450312/NUM_RELU_R32, 356450312/NUM_RELU_R32"
   ]
  },
  {
   "cell_type": "code",
   "execution_count": null,
   "metadata": {
    "colab": {
     "base_uri": "https://localhost:8080/"
    },
    "id": "nxp5UiIdDVjs",
    "outputId": "c0511120-8286-4396-9eb1-22478082f49b"
   },
   "outputs": [
    {
     "data": {
      "text/plain": [
       "(15896.000014361212, 1176.0000143612133, 1176.0000143612133)"
      ]
     },
     "execution_count": 14,
     "metadata": {},
     "output_type": "execute_result"
    }
   ],
   "source": [
    "8854962184/NUM_RELU_R18, 655097864/NUM_RELU_R18, 655097864/NUM_RELU_R18"
   ]
  },
  {
   "cell_type": "code",
   "execution_count": null,
   "metadata": {
    "colab": {
     "base_uri": "https://localhost:8080/"
    },
    "id": "7fOL_BSAHLvC",
    "outputId": "2d60e649-02df-49c6-db13-2a9054b9db4e"
   },
   "outputs": [
    {
     "data": {
      "text/plain": [
       "18248"
      ]
     },
     "execution_count": 19,
     "metadata": {},
     "output_type": "execute_result"
    }
   ],
   "source": [
    "15896 + 2*1176"
   ]
  },
  {
   "cell_type": "markdown",
   "metadata": {
    "id": "XUnv5GmmG3qd"
   },
   "source": [
    "# Overall Storage\n",
    "\n",
    "For some network with some number of ReLUs..\n",
    "\n",
    "The Garbler must store:\n",
    "\n",
    "- 3590 Bytes / ReLU \n",
    "\n",
    "The Evaluator must store:\n",
    "\n",
    "- 18248 Bytes / ReLU\n"
   ]
  }
 ],
 "metadata": {
  "colab": {
   "provenance": []
  },
  "kernelspec": {
   "display_name": "Python 3",
   "language": "python",
   "name": "python3"
  },
  "language_info": {
   "codemirror_mode": {
    "name": "ipython",
    "version": 3
   },
   "file_extension": ".py",
   "mimetype": "text/x-python",
   "name": "python",
   "nbconvert_exporter": "python",
   "pygments_lexer": "ipython3",
   "version": "3.8.3"
  }
 },
 "nbformat": 4,
 "nbformat_minor": 1
}
